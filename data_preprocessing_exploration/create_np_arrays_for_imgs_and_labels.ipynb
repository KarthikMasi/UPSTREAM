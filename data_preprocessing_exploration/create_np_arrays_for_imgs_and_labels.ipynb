{
 "cells": [
  {
   "cell_type": "code",
   "execution_count": 1,
   "metadata": {},
   "outputs": [],
   "source": [
    "import numpy as np \n",
    "import numpy as np\n",
    "import nibabel as nib\n",
    "import pathlib as pl\n",
    "import matplotlib.pyplot as plt\n",
    "import pickle"
   ]
  },
  {
   "cell_type": "markdown",
   "metadata": {},
   "source": [
    "### load data"
   ]
  },
  {
   "cell_type": "code",
   "execution_count": 2,
   "metadata": {},
   "outputs": [],
   "source": [
    "base_path = pl.Path.cwd().parent.parent.parent.parent.parent / \"nfs\" / \"masi\" / \"ramadak\" / \"BRATS\"\n"
   ]
  },
  {
   "cell_type": "code",
   "execution_count": 3,
   "metadata": {},
   "outputs": [],
   "source": [
    "paths = [x for x in base_path.iterdir()]\n"
   ]
  },
  {
   "cell_type": "markdown",
   "metadata": {},
   "source": [
    "### load labels"
   ]
  },
  {
   "cell_type": "code",
   "execution_count": 4,
   "metadata": {},
   "outputs": [],
   "source": [
    "Y = np.ones([73, 240, 240])\n",
    "\n",
    "for i,path in enumerate(paths):\n",
    "\n",
    "    # load segmentation mips\n",
    "    seg_path = path / (\"BraTS20_Training_\"+str(path)[-3:]+\"_seg.nii.gz\")\n",
    "    seg = nib.load(seg_path).get_fdata()\n",
    "    seg[seg>0] = 1\n",
    "    seg_mip = np.max(seg, axis=2)\n",
    "    seg_mip = np.rot90(np.rot90(np.rot90(seg_mip)))\n",
    "    \n",
    "    Y[i,:,:] = seg_mip\n",
    "    "
   ]
  },
  {
   "cell_type": "markdown",
   "metadata": {},
   "source": [
    "### Load inputs"
   ]
  },
  {
   "cell_type": "code",
   "execution_count": 5,
   "metadata": {},
   "outputs": [],
   "source": [
    "X = np.ones([73, 240, 240])\n",
    "\n",
    "for i,path in enumerate(paths):\n",
    "\n",
    "    # load flair & t2 \n",
    "    flair_path = path / (\"BraTS20_Training_\"+str(path)[-3:]+\"_\" + \"flair\" + \".nii.gz\")\n",
    "    t2_path = path / (\"BraTS20_Training_\"+str(path)[-3:]+\"_\" + \"t2\" + \".nii.gz\")\n",
    "    flair = nib.load(flair_path).get_fdata()\n",
    "    t2 = nib.load(t2_path).get_fdata()\n",
    "    \n",
    "    # combine and normalize\n",
    "    ft2 = flair + t2\n",
    "    ft2 /= ft2.max()\n",
    "    \n",
    "    ft2_mip = np.max(ft2,axis=2)\n",
    "\n",
    "    ft2_mip = np.rot90(np.rot90(np.rot90(ft2_mip)))\n",
    "    \n",
    "    X[i,:,:] = ft2_mip\n",
    "    "
   ]
  },
  {
   "cell_type": "markdown",
   "metadata": {},
   "source": [
    "### save as arrays "
   ]
  },
  {
   "cell_type": "code",
   "execution_count": 6,
   "metadata": {},
   "outputs": [],
   "source": [
    "with open('inputs.npy', 'wb') as f:\n",
    "    np.save(f, X)"
   ]
  },
  {
   "cell_type": "code",
   "execution_count": 7,
   "metadata": {},
   "outputs": [],
   "source": [
    "with open('labels.npy', 'wb') as f:\n",
    "    np.save(f, Y)"
   ]
  },
  {
   "cell_type": "code",
   "execution_count": null,
   "metadata": {},
   "outputs": [],
   "source": []
  },
  {
   "cell_type": "code",
   "execution_count": null,
   "metadata": {},
   "outputs": [],
   "source": []
  }
 ],
 "metadata": {
  "kernelspec": {
   "display_name": "Python 3",
   "language": "python",
   "name": "python3"
  },
  "language_info": {
   "codemirror_mode": {
    "name": "ipython",
    "version": 3
   },
   "file_extension": ".py",
   "mimetype": "text/x-python",
   "name": "python",
   "nbconvert_exporter": "python",
   "pygments_lexer": "ipython3",
   "version": "3.7.8"
  }
 },
 "nbformat": 4,
 "nbformat_minor": 4
}
